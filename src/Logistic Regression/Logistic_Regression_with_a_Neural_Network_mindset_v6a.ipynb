{
  "nbformat": 4,
  "nbformat_minor": 0,
  "metadata": {
    "coursera": {
      "course_slug": "neural-networks-deep-learning",
      "graded_item_id": "XaIWT",
      "launcher_item_id": "zAgPl"
    },
    "kernelspec": {
      "display_name": "Python 3",
      "language": "python",
      "name": "python3"
    },
    "language_info": {
      "codemirror_mode": {
        "name": "ipython",
        "version": 3
      },
      "file_extension": ".py",
      "mimetype": "text/x-python",
      "name": "python",
      "nbconvert_exporter": "python",
      "pygments_lexer": "ipython3",
      "version": "3.8.5"
    },
    "colab": {
      "name": "Logistic_Regression_with_a_Neural_Network_mindset_v6a.ipynb",
      "provenance": [],
      "collapsed_sections": [],
      "toc_visible": true
    }
  },
  "cells": [
    {
      "cell_type": "code",
      "metadata": {
        "id": "VOR9eE0CmiX0",
        "colab": {
          "base_uri": "https://localhost:8080/"
        },
        "outputId": "b42ca218-c2ca-4d23-8cd8-00e0300dac8f"
      },
      "source": [
        "from google.colab import drive\n",
        "drive.mount('/content/drive')"
      ],
      "execution_count": null,
      "outputs": [
        {
          "output_type": "stream",
          "name": "stdout",
          "text": [
            "Mounted at /content/drive\n"
          ]
        }
      ]
    },
    {
      "cell_type": "code",
      "metadata": {
        "id": "7c7OJArjmiky",
        "colab": {
          "base_uri": "https://localhost:8080/"
        },
        "outputId": "aec8a8c8-553c-4b9e-d7fc-45bfa799776c"
      },
      "source": [
        "cd '/content/drive/My Drive/DeepLearning/1 Logistic Regression'"
      ],
      "execution_count": null,
      "outputs": [
        {
          "output_type": "stream",
          "name": "stdout",
          "text": [
            "/content/drive/.shortcut-targets-by-id/1UqsKRLPD9gA-27doQSUD8OTAKGQYOztV/1 Logistic Regression\n"
          ]
        }
      ]
    },
    {
      "cell_type": "code",
      "metadata": {
        "id": "NCPjTSoAmipQ",
        "colab": {
          "base_uri": "https://localhost:8080/"
        },
        "outputId": "bec5aee5-9f7a-4927-8e6d-2fbf092b9043"
      },
      "source": [
        "!pwd\n",
        "!ls"
      ],
      "execution_count": null,
      "outputs": [
        {
          "output_type": "stream",
          "name": "stdout",
          "text": [
            "/content/drive/.shortcut-targets-by-id/1UqsKRLPD9gA-27doQSUD8OTAKGQYOztV/1 Logistic Regression\n",
            " datasets\n",
            " images\n",
            "'Logistic Regression with a Neural Network mindset.pdf'\n",
            " Logistic_Regression_with_a_Neural_Network_mindset_v6a.ipynb\n",
            " lr_utils.py\n",
            " __pycache__\n"
          ]
        }
      ]
    },
    {
      "cell_type": "markdown",
      "metadata": {
        "id": "fUtbABNlmhL9"
      },
      "source": [
        "# Logistic Regression with a Neural Network mindset\n",
        "\n",
        "Welcome to your first (required) programming assignment! You will build a logistic regression classifier to recognize  cats. This assignment will step you through how to do this with a Neural Network mindset, and so will also hone your intuitions about deep learning.\n",
        "\n",
        "**Instructions:**\n",
        "- Do not use loops (for/while) in your code, unless the instructions explicitly ask you to do so.\n",
        "\n",
        "**You will learn to:**\n",
        "- Build the general architecture of a learning algorithm, including:\n",
        "    - Initializing parameters\n",
        "    - Calculating the cost function and its gradient\n",
        "    - Using an optimization algorithm (gradient descent) \n",
        "- Gather all three functions above into a main model function, in the right order."
      ]
    },
    {
      "cell_type": "markdown",
      "metadata": {
        "id": "GFjkaNunmhL-"
      },
      "source": [
        "## <font color='darkblue'>Updates</font>\n",
        "This notebook has been updated over the past few months.  The prior version was named \"v5\", and the current versionis now named '6a'\n",
        "\n",
        "#### If you were working on a previous version:\n",
        "* You can find your prior work by looking in the file directory for the older files (named by version name).\n",
        "* To view the file directory, click on the \"Coursera\" icon in the top left corner of this notebook.\n",
        "* Please copy your work from the older versions to the new version, in order to submit your work for grading.\n",
        "\n",
        "#### List of Updates\n",
        "* Forward propagation formula, indexing now starts at 1 instead of 0.\n",
        "* Optimization function comment now says \"print cost every 100 training iterations\" instead of \"examples\".\n",
        "* Fixed grammar in the comments.\n",
        "* Y_prediction_test variable name is used consistently.\n",
        "* Plot's axis label now says \"iterations (hundred)\" instead of \"iterations\".\n",
        "* When testing the model, the test image is normalized by dividing by 255."
      ]
    },
    {
      "cell_type": "markdown",
      "metadata": {
        "id": "15C84B0SmhL_"
      },
      "source": [
        "## 1 - Packages ##\n",
        "\n",
        "First, let's run the cell below to import all the packages that you will need during this assignment. \n",
        "- [numpy](www.numpy.org) is the fundamental package for scientific computing with Python.\n",
        "- [h5py](http://www.h5py.org) is a common package to interact with a dataset that is stored on an H5 file.\n",
        "- [matplotlib](http://matplotlib.org) is a famous library to plot graphs in Python.\n",
        "- [PIL](http://www.pythonware.com/products/pil/) and [scipy](https://www.scipy.org/) are used here to test your model with your own picture at the end."
      ]
    },
    {
      "cell_type": "code",
      "metadata": {
        "id": "Yje13rqhmhMA"
      },
      "source": [
        "import numpy as np\n",
        "import matplotlib.pyplot as plt\n",
        "import h5py\n",
        "import scipy\n",
        "from PIL import Image\n",
        "from scipy import ndimage\n",
        "from lr_utils import load_dataset\n",
        "\n",
        "%matplotlib inline"
      ],
      "execution_count": null,
      "outputs": []
    },
    {
      "cell_type": "markdown",
      "metadata": {
        "id": "vjpBpHu3mhMD"
      },
      "source": [
        "## 2 - Overview of the Problem set ##\n",
        "\n",
        "**Problem Statement**: You are given a dataset (\"data.h5\") containing:\n",
        "    - a training set of m_train images labeled as cat (y=1) or non-cat (y=0)\n",
        "    - a test set of m_test images labeled as cat or non-cat\n",
        "    - each image is of shape (num_px, num_px, 3) where 3 is for the 3 channels (RGB). Thus, each image is square (height = num_px) and (width = num_px).\n",
        "\n",
        "You will build a simple image-recognition algorithm that can correctly classify pictures as cat or non-cat.\n",
        "\n",
        "Let's get more familiar with the dataset. Load the data by running the following code."
      ]
    },
    {
      "cell_type": "code",
      "metadata": {
        "id": "heaE13yrmhME",
        "colab": {
          "base_uri": "https://localhost:8080/"
        },
        "outputId": "6f0c5b8a-a292-4d69-b6eb-c1b5287eb2fe"
      },
      "source": [
        "# Loading the data (cat/non-cat)\n",
        "train_set_x_orig, train_set_y, test_set_x_orig, test_set_y, classes = load_dataset()\n",
        "\n",
        "print('train_set_x_orig.shape = ', train_set_x_orig.shape)\n",
        "print('train_set_y.shape = ', train_set_y.shape)\n",
        "print('test_set_x_orig.shape = ', test_set_x_orig.shape)\n",
        "print('test_set_y.shape = ', test_set_y.shape)\n",
        "classes"
      ],
      "execution_count": null,
      "outputs": [
        {
          "output_type": "stream",
          "name": "stdout",
          "text": [
            "train_set_x_orig.shape =  (209, 64, 64, 3)\n",
            "train_set_y.shape =  (1, 209)\n",
            "test_set_x_orig.shape =  (50, 64, 64, 3)\n",
            "test_set_y.shape =  (1, 50)\n"
          ]
        },
        {
          "output_type": "execute_result",
          "data": {
            "text/plain": [
              "array([b'non-cat', b'cat'], dtype='|S7')"
            ]
          },
          "metadata": {},
          "execution_count": 6
        }
      ]
    },
    {
      "cell_type": "markdown",
      "metadata": {
        "id": "9F_8o82FmhMH"
      },
      "source": [
        "We added \"_orig\" at the end of image datasets (train and test) because we are going to preprocess them. After preprocessing, we will end up with train_set_x and test_set_x (the labels train_set_y and test_set_y don't need any preprocessing).\n",
        "\n",
        "Each line of your train_set_x_orig and test_set_x_orig is an array representing an image. You can visualize an example by running the following code. Feel free also to change the `index` value and re-run to see other images. "
      ]
    },
    {
      "cell_type": "code",
      "metadata": {
        "id": "zpgTqPZYmhMH",
        "colab": {
          "base_uri": "https://localhost:8080/",
          "height": 285
        },
        "outputId": "0a95e1bb-e68a-4d57-a90d-cbcc84b25a60"
      },
      "source": [
        "# Example of a picture\n",
        "index = 200\n",
        "plt.imshow(train_set_x_orig[index])\n",
        "print (\"y = \" + str(train_set_y[:, index]) + \", it's a '\" + \n",
        "       classes[np.squeeze(train_set_y[:, index])].decode(\"utf-8\") +  \"' picture.\")"
      ],
      "execution_count": null,
      "outputs": [
        {
          "output_type": "stream",
          "name": "stdout",
          "text": [
            "y = [1], it's a 'cat' picture.\n"
          ]
        },
        {
          "output_type": "display_data",
          "data": {
            "text/plain": [
              "<Figure size 432x288 with 1 Axes>"
            ],
            "image/png": "[encoded data removed]"
          },
          "metadata": {
            "needs_background": "light"
          }
        }
      ]
    },
    {
      "cell_type": "markdown",
      "metadata": {
        "id": "rcQDWAgBmhMK"
      },
      "source": [
        "Many software bugs in deep learning come from having matrix/vector dimensions that don't fit. If you can keep your matrix/vector dimensions straight you will go a long way toward eliminating many bugs. \n",
        "\n",
        "**Exercise:** Find the values for:\n",
        "    - m_train (number of training examples)\n",
        "    - m_test (number of test examples)\n",
        "    - num_px (= height = width of a training image)\n",
        "Remember that `train_set_x_orig` is a numpy-array of shape (m_train, num_px, num_px, 3). For instance, you can access `m_train` by writing `train_set_x_orig.shape[0]`."
      ]
    },
    {
      "cell_type": "code",
      "metadata": {
        "scrolled": true,
        "id": "F3eTQ2-smhML",
        "colab": {
          "base_uri": "https://localhost:8080/"
        },
        "outputId": "0ebe4ecc-4bce-4abf-c3c2-ccec275e0d51"
      },
      "source": [
        "### START CODE HERE ### (≈ 3 lines of code)\n",
        "m_train = train_set_x_orig.shape[0]\n",
        "m_test = test_set_x_orig.shape[0]\n",
        "num_px = train_set_x_orig.shape[1]\n",
        "### END CODE HERE ###\n",
        "\n",
        "print (\"Number of training examples: m_train = \" + str(m_train))\n",
        "print (\"Number of testing examples: m_test = \" + str(m_test))\n",
        "print (\"Height/Width of each image: num_px = \" + str(num_px))\n",
        "print (\"Each image is of size: (\" + str(num_px) + \", \" + str(num_px) + \", 3)\")\n",
        "print (\"train_set_x shape: \" + str(train_set_x_orig.shape))\n",
        "print (\"train_set_y shape: \" + str(train_set_y.shape))\n",
        "print (\"test_set_x shape: \" + str(test_set_x_orig.shape))\n",
        "print (\"test_set_y shape: \" + str(test_set_y.shape))"
      ],
      "execution_count": null,
      "outputs": [
        {
          "output_type": "stream",
          "name": "stdout",
          "text": [
            "Number of training examples: m_train = 209\n",
            "Number of testing examples: m_test = 50\n",
            "Height/Width of each image: num_px = 64\n",
            "Each image is of size: (64, 64, 3)\n",
            "train_set_x shape: (209, 64, 64, 3)\n",
            "train_set_y shape: (1, 209)\n",
            "test_set_x shape: (50, 64, 64, 3)\n",
            "test_set_y shape: (1, 50)\n"
          ]
        }
      ]
    },
    {
      "cell_type": "markdown",
      "metadata": {
        "id": "ttUsE8oQmhMO"
      },
      "source": [
        "**Expected Output for m_train, m_test and num_px**: \n",
        "<table style=\"width:15%\">\n",
        "  <tr>\n",
        "    <td>**m_train**</td>\n",
        "    <td> 209 </td> \n",
        "  </tr>\n",
        "  \n",
        "  <tr>\n",
        "    <td>**m_test**</td>\n",
        "    <td> 50 </td> \n",
        "  </tr>\n",
        "  \n",
        "  <tr>\n",
        "    <td>**num_px**</td>\n",
        "    <td> 64 </td> \n",
        "  </tr>\n",
        "  \n",
        "</table>\n"
      ]
    },
    {
      "cell_type": "markdown",
      "metadata": {
        "id": "T8l2P2CfmhMO"
      },
      "source": [
        "For convenience, you should now reshape images of shape (num_px, num_px, 3) in a numpy-array of shape (num_px $*$ num_px $*$ 3, 1). After this, our training (and test) dataset is a numpy-array where each column represents a flattened image. There should be m_train (respectively m_test) columns.\n",
        "\n",
        "**Exercise:** Reshape the training and test data sets so that images of size (num_px, num_px, 3) are flattened into single vectors of shape (num\\_px $*$ num\\_px $*$ 3, 1).\n",
        "\n",
        "A trick when you want to flatten a matrix X of shape (a,b,c,d) to a matrix X_flatten of shape (b$*$c$*$d, a) is to use: \n",
        "```python\n",
        "X_flatten = X.reshape(X.shape[0], -1).T      # X.T is the transpose of X\n",
        "```"
      ]
    },
    {
      "cell_type": "code",
      "metadata": {
        "id": "YTxjSPvwmhMP",
        "colab": {
          "base_uri": "https://localhost:8080/"
        },
        "outputId": "dfb59649-a337-4d36-d94f-939b76e3da3f"
      },
      "source": [
        "# Reshape the training and test examples\n",
        "\n",
        "### START CODE HERE ### (≈ 2 lines of code)\n",
        "train_set_x_flatten = train_set_x_orig.reshape(train_set_x_orig.shape[0],-1).T\n",
        "test_set_x_flatten = test_set_x_orig.reshape(test_set_x_orig.shape[0],-1).T\n",
        "### END CODE HERE ###\n",
        "\n",
        "print (\"train_set_x_flatten shape: \" + str(train_set_x_flatten.shape))\n",
        "print (\"train_set_y shape: \" + str(train_set_y.shape))\n",
        "print (\"test_set_x_flatten shape: \" + str(test_set_x_flatten.shape))\n",
        "print (\"test_set_y shape: \" + str(test_set_y.shape))\n",
        "print (\"sanity check after reshaping: \" + str(train_set_x_flatten[0:5,0]))"
      ],
      "execution_count": null,
      "outputs": [
        {
          "output_type": "stream",
          "name": "stdout",
          "text": [
            "train_set_x_flatten shape: (12288, 209)\n",
            "train_set_y shape: (1, 209)\n",
            "test_set_x_flatten shape: (12288, 50)\n",
            "test_set_y shape: (1, 50)\n",
            "sanity check after reshaping: [17 31 56 22 33]\n"
          ]
        }
      ]
    },
    {
      "cell_type": "markdown",
      "metadata": {
        "id": "8_4xetjtmhMS"
      },
      "source": [
        "**Expected Output**: \n",
        "\n",
        "<table style=\"width:35%\">\n",
        "  <tr>\n",
        "    <td>**train_set_x_flatten shape**</td>\n",
        "    <td> (12288, 209)</td> \n",
        "  </tr>\n",
        "  <tr>\n",
        "    <td>**train_set_y shape**</td>\n",
        "    <td>(1, 209)</td> \n",
        "  </tr>\n",
        "  <tr>\n",
        "    <td>**test_set_x_flatten shape**</td>\n",
        "    <td>(12288, 50)</td> \n",
        "  </tr>\n",
        "  <tr>\n",
        "    <td>**test_set_y shape**</td>\n",
        "    <td>(1, 50)</td> \n",
        "  </tr>\n",
        "  <tr>\n",
        "  <td>**sanity check after reshaping**</td>\n",
        "  <td>[17 31 56 22 33]</td> \n",
        "  </tr>\n",
        "</table>"
      ]
    },
    {
      "cell_type": "markdown",
      "metadata": {
        "id": "Dc9TPhCBmhMS"
      },
      "source": [
        "To represent color images, the red, green and blue channels (RGB) must be specified for each pixel, and so the pixel value is actually a vector of three numbers ranging from 0 to 255.\n",
        "\n",
        "One common preprocessing step in machine learning is to center and standardize your dataset, meaning that you substract the mean of the whole numpy array from each example, and then divide each example by the standard deviation of the whole numpy array. But for picture datasets, it is simpler and more convenient and works almost as well to just divide every row of the dataset by 255 (the maximum value of a pixel channel).\n",
        "\n",
        "<!-- During the training of your model, you're going to multiply weights and add biases to some initial inputs in order to observe neuron activations. Then you backpropogate with the gradients to train the model. But, it is extremely important for each feature to have a similar range such that our gradients don't explode. You will see that more in detail later in the lectures. !--> \n",
        "\n",
        "Let's standardize our dataset."
      ]
    },
    {
      "cell_type": "code",
      "metadata": {
        "id": "g8qOUbOMmhMT"
      },
      "source": [
        "train_set_x = train_set_x_flatten/255.\n",
        "test_set_x = test_set_x_flatten/255."
      ],
      "execution_count": null,
      "outputs": []
    },
    {
      "cell_type": "markdown",
      "metadata": {
        "id": "cUh6Jk5amhMW"
      },
      "source": [
        "<font color='blue'>\n",
        "**What you need to remember:**\n",
        "\n",
        "Common steps for pre-processing a new dataset are:\n",
        "- Figure out the dimensions and shapes of the problem (m_train, m_test, num_px, ...)\n",
        "- Reshape the datasets such that each example is now a vector of size (num_px \\* num_px \\* 3, 1)\n",
        "- \"Standardize\" the data"
      ]
    },
    {
      "cell_type": "markdown",
      "metadata": {
        "id": "tk2NmXHymhMW"
      },
      "source": [
        "## 3 - General Architecture of the learning algorithm ##\n",
        "\n",
        "It's time to design a simple algorithm to distinguish cat images from non-cat images.\n",
        "\n",
        "You will build a Logistic Regression, using a Neural Network mindset. The following Figure explains why **Logistic Regression is actually a very simple Neural Network!**\n",
        "\n",
        "![](https://drive.google.com/uc?export=view&id=1SvLY8RDbp2sRldIaoCFJgh56lQQvTwOc)\n",
        "\n",
        "**Mathematical expression of the algorithm**:\n",
        "\n",
        "For one example $x^{(i)}$:\n",
        "$$z^{(i)} = w^T x^{(i)} + b \\tag{1}$$\n",
        "$$\\hat{y}^{(i)} = a^{(i)} = sigmoid(z^{(i)})\\tag{2}$$ \n",
        "$$ \\mathcal{L}(a^{(i)}, y^{(i)}) =  - y^{(i)}  \\log(a^{(i)}) - (1-y^{(i)} )  \\log(1-a^{(i)})\\tag{3}$$\n",
        "\n",
        "The cost is then computed by summing over all training examples:\n",
        "$$ J = \\frac{1}{m} \\sum_{i=1}^m \\mathcal{L}(a^{(i)}, y^{(i)})\\tag{6}$$\n",
        "\n",
        "**Key steps**:\n",
        "In this exercise, you will carry out the following steps: \n",
        "    - Initialize the parameters of the model\n",
        "    - Learn the parameters for the model by minimizing the cost  \n",
        "    - Use the learned parameters to make predictions (on the test set)\n",
        "    - Analyse the results and conclude"
      ]
    },
    {
      "cell_type": "markdown",
      "metadata": {
        "id": "eOf3cosFmhMX"
      },
      "source": [
        "## 4 - Building the parts of our algorithm ## \n",
        "\n",
        "The main steps for building a Neural Network are:\n",
        "1. Define the model structure (such as number of input features) \n",
        "2. Initialize the model's parameters\n",
        "3. Loop:\n",
        "    - Calculate current loss (forward propagation)\n",
        "    - Calculate current gradient (backward propagation)\n",
        "    - Update parameters (gradient descent)\n",
        "\n",
        "You often build 1-3 separately and integrate them into one function we call `model()`."
      ]
    },
    {
      "cell_type": "markdown",
      "metadata": {
        "id": "lZ-EYNepnEPk"
      },
      "source": [
        "### 4.1 - Helper functions\n",
        "\n",
        "**Exercise**: Using your code from \"Python Basics\", implement `sigmoid()`. As you've seen in the figure above, you need to compute $sigmoid( w^T x + b) = \\frac{1}{1 + e^{-(w^T x + b)}}$ to make predictions. Use np.exp()."
      ]
    },
    {
      "cell_type": "code",
      "metadata": {
        "id": "JXEu35gMmhMX"
      },
      "source": [
        "# GRADED FUNCTION: sigmoid\n",
        "\n",
        "def sigmoid(z):\n",
        "    \"\"\"\n",
        "    Compute the sigmoid of z\n",
        "\n",
        "    Arguments:\n",
        "    z -- A scalar or numpy array of any size.\n",
        "\n",
        "    Return:\n",
        "    s -- sigmoid(z)\n",
        "    \"\"\"\n",
        "\n",
        "    ### START CODE HERE ### (≈ 1 line of code)\n",
        "    s = 1 / (1 + np.exp(-z))\n",
        "    ### END CODE HERE ###\n",
        "    \n",
        "    return s"
      ],
      "execution_count": null,
      "outputs": []
    },
    {
      "cell_type": "code",
      "metadata": {
        "scrolled": true,
        "id": "74_Ntf1wmhMa",
        "colab": {
          "base_uri": "https://localhost:8080/"
        },
        "outputId": "c94117c8-6386-4b0d-b2c6-51451455d2a2"
      },
      "source": [
        "print (\"sigmoid([0, 2]) = \" + str(sigmoid(np.array([0,2]))))"
      ],
      "execution_count": null,
      "outputs": [
        {
          "output_type": "stream",
          "name": "stdout",
          "text": [
            "sigmoid([0, 2]) = [0.5        0.88079708]\n"
          ]
        }
      ]
    },
    {
      "cell_type": "markdown",
      "metadata": {
        "id": "wp82yG-MmhMc"
      },
      "source": [
        "**Expected Output**: \n",
        "\n",
        "<table>\n",
        "  <tr>\n",
        "    <td>**sigmoid([0, 2])**</td>\n",
        "    <td> [ 0.5         0.88079708]</td> \n",
        "  </tr>\n",
        "</table>"
      ]
    },
    {
      "cell_type": "markdown",
      "metadata": {
        "id": "Ly-XGGNmmhMd"
      },
      "source": [
        "### 4.2 - Initializing parameters\n",
        "\n",
        "**Exercise:** Implement parameter initialization in the cell below. You have to initialize w as a vector of zeros. If you don't know what numpy function to use, look up np.zeros() in the Numpy library's documentation."
      ]
    },
    {
      "cell_type": "code",
      "metadata": {
        "id": "VtIop_3SmhMd"
      },
      "source": [
        "# GRADED FUNCTION: initialize_with_zeros\n",
        "\n",
        "def initialize_with_zeros(dim):\n",
        "    \"\"\"\n",
        "    This function creates a vector of zeros of shape (dim, 1) for w and initializes b to 0.\n",
        "    \n",
        "    Argument:\n",
        "    dim -- size of the w vector we want (or number of parameters in this case)\n",
        "    \n",
        "    Returns:\n",
        "    w -- initialized vector of shape (dim, 1)\n",
        "    b -- initialized scalar (corresponds to the bias)\n",
        "    \"\"\"\n",
        "    \n",
        "    ### START CODE HERE ### (≈ 1 line of code)\n",
        "    w = np.zeros((dim,1))\n",
        "    b = 0\n",
        "    ### END CODE HERE ###\n",
        "\n",
        "    assert(w.shape == (dim, 1))\n",
        "    assert(isinstance(b, float) or isinstance(b, int))\n",
        "    \n",
        "    return w, b"
      ],
      "execution_count": null,
      "outputs": []
    },
    {
      "cell_type": "code",
      "metadata": {
        "id": "Xi5C-chnmhMg",
        "colab": {
          "base_uri": "https://localhost:8080/"
        },
        "outputId": "8f761c1c-14d0-4549-f728-ae57a677ce58"
      },
      "source": [
        "dim = 2\n",
        "w, b = initialize_with_zeros(dim)\n",
        "print (\"w = \" + str(w))\n",
        "print (\"b = \" + str(b))"
      ],
      "execution_count": null,
      "outputs": [
        {
          "output_type": "stream",
          "name": "stdout",
          "text": [
            "w = [[0.]\n",
            " [0.]]\n",
            "b = 0\n"
          ]
        }
      ]
    },
    {
      "cell_type": "markdown",
      "metadata": {
        "id": "06tVDzhQmhMi"
      },
      "source": [
        "**Expected Output**: \n",
        "\n",
        "\n",
        "<table style=\"width:15%\">\n",
        "    <tr>\n",
        "        <td>  ** w **  </td>\n",
        "        <td> [[ 0.]\n",
        " [ 0.]] </td>\n",
        "    </tr>\n",
        "    <tr>\n",
        "        <td>  ** b **  </td>\n",
        "        <td> 0 </td>\n",
        "    </tr>\n",
        "</table>\n",
        "\n",
        "For image inputs, w will be of shape (num_px $\\times$ num_px $\\times$ 3, 1)."
      ]
    },
    {
      "cell_type": "markdown",
      "metadata": {
        "id": "fHDTA15BmhMj"
      },
      "source": [
        "### 4.3 - Forward and Backward propagation\n",
        "\n",
        "Now that your parameters are initialized, you can do the \"forward\" and \"backward\" propagation steps for learning the parameters.\n",
        "\n",
        "**Exercise:** Implement a function `propagate()` that computes the cost function and its gradient.\n",
        "\n",
        "**Hints**:\n",
        "\n",
        "Forward Propagation:\n",
        "- You get X\n",
        "- You compute $A = \\sigma(w^T X + b) = (a^{(1)}, a^{(2)}, ..., a^{(m-1)}, a^{(m)})$\n",
        "- You calculate the cost function: $J = -\\frac{1}{m}\\sum_{i=1}^{m}   \\left[  y^{(i)}\\log(a^{(i)})+(1-y^{(i)})\\log(1-a^{(i)}) \\right]$\n",
        "\n",
        "Here are the two formulas you will be using: \n",
        "\n",
        "$$ \\frac{\\partial J}{\\partial w} = \\frac{1}{m}X(A-Y)^T\\tag{7}$$\n",
        "$$ \\frac{\\partial J}{\\partial b} = \\frac{1}{m} \\sum_{i=1}^m (a^{(i)}-y^{(i)})\\tag{8}$$"
      ]
    },
    {
      "cell_type": "code",
      "metadata": {
        "id": "MFEZdtD3mhMk"
      },
      "source": [
        "# GRADED FUNCTION: propagate\n",
        "\n",
        "def propagate(w, b, X, Y):\n",
        "    \"\"\"\n",
        "    Implement the cost function and its gradient for the propagation explained above\n",
        "\n",
        "    Arguments:\n",
        "    w -- weights, a numpy array of size (num_px * num_px * 3, 1)\n",
        "    b -- bias, a scalar\n",
        "    X -- data of size (num_px * num_px * 3, number of examples)\n",
        "    Y -- true \"label\" vector (containing 0 if non-cat, 1 if cat) of size (1, number of examples)\n",
        "\n",
        "    Return:\n",
        "    cost -- negative log-likelihood cost for logistic regression\n",
        "    dw -- gradient of the loss with respect to w, thus same shape as w\n",
        "    db -- gradient of the loss with respect to b, thus same shape as b\n",
        "    \n",
        "    Tips:\n",
        "    - Write your code step by step for the propagation. np.log(), np.dot()\n",
        "    \"\"\"\n",
        "    \n",
        "    m = X.shape[1]\n",
        "    \n",
        "    # FORWARD PROPAGATION (FROM X TO COST)\n",
        "    ### START CODE HERE ### (≈ 2 lines of code)\n",
        "    A = sigmoid(np.dot(w.T, X) + b)\n",
        "    cost = (- 1 / m) * np.sum(Y * np.log(A) + (1 - Y) * (np.log(1 - A)))\n",
        "    ### END CODE HERE ###\n",
        "    \n",
        "    # BACKWARD PROPAGATION (TO FIND GRAD)\n",
        "    ### START CODE HERE ### (≈ 2 lines of code)\n",
        "    dw = (1 / m) * np.dot(X, (A - Y).T)\n",
        "    db = (1 / m) * np.sum(A - Y)\n",
        "    ### END CODE HERE ###\n",
        "\n",
        "    assert(dw.shape == w.shape)\n",
        "    assert(db.dtype == float)\n",
        "    cost = np.squeeze(cost)\n",
        "    assert(cost.shape == ())\n",
        "    \n",
        "    grads = {\"dw\": dw,\n",
        "             \"db\": db}\n",
        "    \n",
        "    return grads, cost"
      ],
      "execution_count": 23,
      "outputs": []
    },
    {
      "cell_type": "code",
      "metadata": {
        "id": "Fkq2YhPBmhMm",
        "colab": {
          "base_uri": "https://localhost:8080/"
        },
        "outputId": "0ba6c57b-d141-45ef-f5d5-af8aba85d271"
      },
      "source": [
        "w, b, X, Y = np.array([[1.],[2.]]), 2., np.array([[1.,2.,-1.],[3.,4.,-3.2]]), np.array([[1,0,1]])\n",
        "grads, cost = propagate(w, b, X, Y)\n",
        "print (\"dw = \" + str(grads[\"dw\"]))\n",
        "print (\"db = \" + str(grads[\"db\"]))\n",
        "print (\"cost = \" + str(cost))"
      ],
      "execution_count": 24,
      "outputs": [
        {
          "output_type": "stream",
          "name": "stdout",
          "text": [
            "dw = [[0.99845601]\n",
            " [2.39507239]]\n",
            "db = 0.001455578136784208\n",
            "cost = 5.801545319394553\n"
          ]
        }
      ]
    },
    {
      "cell_type": "markdown",
      "metadata": {
        "id": "rQUoosn7mhMq"
      },
      "source": [
        "**Expected Output**:\n",
        "\n",
        "<table style=\"width:50%\">\n",
        "    <tr>\n",
        "        <td>  ** dw **  </td>\n",
        "      <td> [[ 0.99845601]\n",
        "     [ 2.39507239]]</td>\n",
        "    </tr>\n",
        "    <tr>\n",
        "        <td>  ** db **  </td>\n",
        "        <td> 0.00145557813678 </td>\n",
        "    </tr>\n",
        "    <tr>\n",
        "        <td>  ** cost **  </td>\n",
        "        <td> 5.801545319394553 </td>\n",
        "    </tr>\n",
        "\n",
        "</table>"
      ]
    },
    {
      "cell_type": "markdown",
      "metadata": {
        "id": "Y7LaEZmrmhMq"
      },
      "source": [
        "### 4.4 - Optimization\n",
        "- You have initialized your parameters.\n",
        "- You are also able to compute a cost function and its gradient.\n",
        "- Now, you want to update the parameters using gradient descent.\n",
        "\n",
        "**Exercise:** Write down the optimization function. The goal is to learn $w$ and $b$ by minimizing the cost function $J$. For a parameter $\\theta$, the update rule is $ \\theta = \\theta - \\alpha \\text{ } d\\theta$, where $\\alpha$ is the learning rate."
      ]
    },
    {
      "cell_type": "code",
      "metadata": {
        "id": "AEz88RMsmhMq"
      },
      "source": [
        "# GRADED FUNCTION: optimize\n",
        "\n",
        "def optimize(w, b, X, Y, num_iterations, learning_rate, print_cost = False):\n",
        "    \"\"\"\n",
        "    This function optimizes w and b by running a gradient descent algorithm\n",
        "    \n",
        "    Arguments:\n",
        "    w -- weights, a numpy array of size (num_px * num_px * 3, 1)\n",
        "    b -- bias, a scalar\n",
        "    X -- data of shape (num_px * num_px * 3, number of examples)\n",
        "    Y -- true \"label\" vector (containing 0 if non-cat, 1 if cat), of shape (1, number of examples)\n",
        "    num_iterations -- number of iterations of the optimization loop\n",
        "    learning_rate -- learning rate of the gradient descent update rule\n",
        "    print_cost -- True to print the loss every 100 steps\n",
        "    \n",
        "    Returns:\n",
        "    params -- dictionary containing the weights w and bias b\n",
        "    grads -- dictionary containing the gradients of the weights and bias with respect to the cost function\n",
        "    costs -- list of all the costs computed during the optimization, this will be used to plot the learning curve.\n",
        "    \n",
        "    Tips:\n",
        "    You basically need to write down two steps and iterate through them:\n",
        "        1) Calculate the cost and the gradient for the current parameters. Use propagate().\n",
        "        2) Update the parameters using gradient descent rule for w and b.\n",
        "    \"\"\"\n",
        "    \n",
        "    costs = []\n",
        "    \n",
        "    for i in range(num_iterations):\n",
        "        \n",
        "        \n",
        "        # Cost and gradient calculation (≈ 1-4 lines of code)\n",
        "        ### START CODE HERE ### \n",
        "        grads, cost = propagate(w, b, X, Y)\n",
        "        ### END CODE HERE ###\n",
        "        \n",
        "        # Retrieve derivatives from grads\n",
        "        dw = grads[\"dw\"]\n",
        "        db = grads[\"db\"]\n",
        "        \n",
        "        # update rule (≈ 2 lines of code)\n",
        "        ### START CODE HERE ###\n",
        "        w = w - learning_rate * dw\n",
        "        b = b - learning_rate * db\n",
        "        ### END CODE HERE ###\n",
        "        \n",
        "#         print(cost)\n",
        "        # Record the costs\n",
        "        if i % 100 == 0:\n",
        "            costs.append(cost)\n",
        "        \n",
        "        # Print the cost every 100 training iterations\n",
        "        if print_cost and i % 100 == 0:\n",
        "            print (\"Cost after iteration %i: %f\" %(i, cost))\n",
        "    \n",
        "    params = {\"w\": w,\n",
        "              \"b\": b}\n",
        "    \n",
        "    grads = {\"dw\": dw,\n",
        "             \"db\": db}\n",
        "    \n",
        "    return params, grads, costs"
      ],
      "execution_count": 25,
      "outputs": []
    },
    {
      "cell_type": "code",
      "metadata": {
        "id": "Z6hEYEkXmhMs",
        "colab": {
          "base_uri": "https://localhost:8080/"
        },
        "outputId": "1a2f5a94-fff5-4bfa-c024-746381b237b8"
      },
      "source": [
        "params, grads, costs = optimize(w, b, X, Y, num_iterations= 100, learning_rate = 0.009, print_cost = False)\n",
        "\n",
        "print (\"w = \" + str(params[\"w\"]))\n",
        "print (\"b = \" + str(params[\"b\"]))\n",
        "print (\"dw = \" + str(grads[\"dw\"]))\n",
        "print (\"db = \" + str(grads[\"db\"]))"
      ],
      "execution_count": 26,
      "outputs": [
        {
          "output_type": "stream",
          "name": "stdout",
          "text": [
            "w = [[0.19033591]\n",
            " [0.12259159]]\n",
            "b = 1.9253598300845747\n",
            "dw = [[0.67752042]\n",
            " [1.41625495]]\n",
            "db = 0.21919450454067657\n"
          ]
        }
      ]
    },
    {
      "cell_type": "markdown",
      "metadata": {
        "id": "adT3t3T7mhMv"
      },
      "source": [
        "**Expected Output**: \n",
        "\n",
        "<table style=\"width:40%\">\n",
        "    <tr>\n",
        "       <td> **w** </td>\n",
        "       <td> [[ 0.19033591] [ 0.12259159]] </td>\n",
        "    </tr>\n",
        "    <tr>\n",
        "       <td> **b** </td>\n",
        "       <td> 1.92535983008 </td>\n",
        "    </tr>\n",
        "    <tr>\n",
        "       <td> **dw** </td>\n",
        "       <td> [[ 0.67752042] [ 1.41625495]] </td>\n",
        "    </tr>\n",
        "    <tr>\n",
        "       <td> **db** </td>\n",
        "       <td> 0.219194504541 </td>\n",
        "    </tr>\n",
        "</table>"
      ]
    },
    {
      "cell_type": "markdown",
      "metadata": {
        "id": "blxXcWxOmhMw"
      },
      "source": [
        "**Exercise:** The previous function will output the learned w and b. We are able to use w and b to predict the labels for a dataset X. Implement the `predict()` function. There are two steps to computing predictions:\n",
        "\n",
        "1. Calculate $\\hat{Y} = A = \\sigma(w^T X + b)$\n",
        "\n",
        "2. Convert the entries of a into 0 (if activation <= 0.5) or 1 (if activation > 0.5), stores the predictions in a vector `Y_prediction`. If you wish, you can use an `if`/`else` statement in a `for` loop (though there is also a way to vectorize this). "
      ]
    },
    {
      "cell_type": "code",
      "metadata": {
        "id": "4LWxX84rmhMw"
      },
      "source": [
        "# GRADED FUNCTION: predict\n",
        "\n",
        "def predict(w, b, X):\n",
        "    '''\n",
        "    Predict whether the label is 0 or 1 using learned logistic regression parameters (w, b)\n",
        "    \n",
        "    Arguments:\n",
        "    w -- weights, a numpy array of size (num_px * num_px * 3, 1)\n",
        "    b -- bias, a scalar\n",
        "    X -- data of size (num_px * num_px * 3, number of examples)\n",
        "    \n",
        "    Returns:\n",
        "    Y_prediction -- a numpy array (vector) containing all predictions (0/1) for the examples in X\n",
        "    '''\n",
        "    \n",
        "    m = X.shape[1]\n",
        "    Y_prediction = np.zeros((1,m))\n",
        "    w = w.reshape(X.shape[0], 1)\n",
        "    \n",
        "    # Compute vector \"A\" predicting the probabilities of a cat being present in the picture\n",
        "    ### START CODE HERE ### (≈ 1 line of code)\n",
        "    A = sigmoid(np.dot(w.T, X) + b)\n",
        "    ### END CODE HERE ###\n",
        "    \n",
        "    Y_prediction[A > 0.5] = 1.\n",
        "    \n",
        "    assert(Y_prediction.shape == (1, m))\n",
        "    \n",
        "    return Y_prediction"
      ],
      "execution_count": 27,
      "outputs": []
    },
    {
      "cell_type": "code",
      "metadata": {
        "id": "nWY0u9OYmhMy",
        "colab": {
          "base_uri": "https://localhost:8080/"
        },
        "outputId": "024870af-f104-420d-cbfa-a9d2816f3f30"
      },
      "source": [
        "w = np.array([[0.1124579],[0.23106775]])\n",
        "b = -0.3\n",
        "X = np.array([[1.,-1.1,-3.2],[1.2,2.,0.1]])\n",
        "print (\"predictions = \" + str(predict(w, b, X)))"
      ],
      "execution_count": 28,
      "outputs": [
        {
          "output_type": "stream",
          "name": "stdout",
          "text": [
            "predictions = [[1. 1. 0.]]\n"
          ]
        }
      ]
    },
    {
      "cell_type": "markdown",
      "metadata": {
        "id": "_oSaT2INmhM0"
      },
      "source": [
        "**Expected Output**: \n",
        "\n",
        "<table style=\"width:30%\">\n",
        "    <tr>\n",
        "         <td>\n",
        "             **predictions**\n",
        "         </td>\n",
        "          <td>\n",
        "            [[ 1.  1.  0.]]\n",
        "         </td>  \n",
        "   </tr>\n",
        "\n",
        "</table>\n"
      ]
    },
    {
      "cell_type": "markdown",
      "metadata": {
        "id": "3ulhQDjfmhM0"
      },
      "source": [
        "<font color='blue'>\n",
        "**What to remember:**\n",
        "You've implemented several functions that:\n",
        "- Initialize (w,b)\n",
        "- Optimize the loss iteratively to learn parameters (w,b):\n",
        "    - computing the cost and its gradient \n",
        "    - updating the parameters using gradient descent\n",
        "- Use the learned (w,b) to predict the labels for a given set of examples"
      ]
    },
    {
      "cell_type": "markdown",
      "metadata": {
        "id": "5fY0qV47mhM1"
      },
      "source": [
        "## 5 - Merge all functions into a model ##\n",
        "\n",
        "You will now see how the overall model is structured by putting together all the building blocks (functions implemented in the previous parts) together, in the right order.\n",
        "\n",
        "**Exercise:** Implement the model function. Use the following notation:\n",
        "    - Y_prediction_test for your predictions on the test set\n",
        "    - Y_prediction_train for your predictions on the train set\n",
        "    - w, costs, grads for the outputs of optimize()"
      ]
    },
    {
      "cell_type": "code",
      "metadata": {
        "id": "0cUdolbnmhM1"
      },
      "source": [
        "# GRADED FUNCTION: model\n",
        "\n",
        "def model(X_train, Y_train, X_test, Y_test, num_iterations = 2000, learning_rate = 0.5, print_cost = False):\n",
        "    \"\"\"\n",
        "    Builds the logistic regression model by calling the function you've implemented previously\n",
        "    \n",
        "    Arguments:\n",
        "    X_train -- training set represented by a numpy array of shape (num_px * num_px * 3, m_train)\n",
        "    Y_train -- training labels represented by a numpy array (vector) of shape (1, m_train)\n",
        "    X_test -- test set represented by a numpy array of shape (num_px * num_px * 3, m_test)\n",
        "    Y_test -- test labels represented by a numpy array (vector) of shape (1, m_test)\n",
        "    num_iterations -- hyperparameter representing the number of iterations to optimize the parameters\n",
        "    learning_rate -- hyperparameter representing the learning rate used in the update rule of optimize()\n",
        "    print_cost -- Set to true to print the cost every 100 iterations\n",
        "    \n",
        "    Returns:\n",
        "    d -- dictionary containing information about the model.\n",
        "    \"\"\"\n",
        "    \n",
        "    ### START CODE HERE ###\n",
        "    \n",
        "    # initialize parameters with zeros (≈ 1 line of code)\n",
        "    w, b = initialize_with_zeros(X_train.shape[0])\n",
        "\n",
        "\n",
        "    # Gradient descent (≈ 1 line of code)\n",
        "    parameters, grads, costs = optimize(w, b, X_train, Y_train, num_iterations, learning_rate, print_cost)\n",
        "    \n",
        "    # Retrieve parameters w and b from dictionary \"parameters\"\n",
        "    w = parameters['w']\n",
        "    b = parameters['b']\n",
        "    \n",
        "    # Predict test/train set examples (≈ 2 lines of code)\n",
        "    Y_prediction_test = predict(w, b, X_test)\n",
        "    Y_prediction_train = predict(w, b, X_train)\n",
        "\n",
        "    ### END CODE HERE ###\n",
        "\n",
        "    # Print train/test Errors\n",
        "    print(\"train accuracy: {} %\".format(100 - np.mean(np.abs(Y_prediction_train - Y_train)) * 100))\n",
        "    print(\"test accuracy: {} %\".format(100 - np.mean(np.abs(Y_prediction_test - Y_test)) * 100))\n",
        "\n",
        "    \n",
        "    d = {\"costs\": costs,\n",
        "         \"Y_prediction_test\": Y_prediction_test, \n",
        "         \"Y_prediction_train\" : Y_prediction_train, \n",
        "         \"w\" : w, \n",
        "         \"b\" : b,\n",
        "         \"learning_rate\" : learning_rate,\n",
        "         \"num_iterations\": num_iterations}\n",
        "    \n",
        "    return d"
      ],
      "execution_count": 29,
      "outputs": []
    },
    {
      "cell_type": "markdown",
      "metadata": {
        "id": "vGvbXt6imhM3"
      },
      "source": [
        "Run the following cell to train your model."
      ]
    },
    {
      "cell_type": "code",
      "metadata": {
        "id": "QTfXnVAdmhM4",
        "colab": {
          "base_uri": "https://localhost:8080/"
        },
        "outputId": "d3657483-0e0d-4f48-999b-540aa191fe5c"
      },
      "source": [
        "d = model(train_set_x, train_set_y, test_set_x, test_set_y, num_iterations = 2000, learning_rate = 0.005, print_cost = True)"
      ],
      "execution_count": 30,
      "outputs": [
        {
          "output_type": "stream",
          "name": "stdout",
          "text": [
            "Cost after iteration 0: 0.693147\n",
            "Cost after iteration 100: 0.584508\n",
            "Cost after iteration 200: 0.466949\n",
            "Cost after iteration 300: 0.376007\n",
            "Cost after iteration 400: 0.331463\n",
            "Cost after iteration 500: 0.303273\n",
            "Cost after iteration 600: 0.279880\n",
            "Cost after iteration 700: 0.260042\n",
            "Cost after iteration 800: 0.242941\n",
            "Cost after iteration 900: 0.228004\n",
            "Cost after iteration 1000: 0.214820\n",
            "Cost after iteration 1100: 0.203078\n",
            "Cost after iteration 1200: 0.192544\n",
            "Cost after iteration 1300: 0.183033\n",
            "Cost after iteration 1400: 0.174399\n",
            "Cost after iteration 1500: 0.166521\n",
            "Cost after iteration 1600: 0.159305\n",
            "Cost after iteration 1700: 0.152667\n",
            "Cost after iteration 1800: 0.146542\n",
            "Cost after iteration 1900: 0.140872\n",
            "train accuracy: 99.04306220095694 %\n",
            "test accuracy: 70.0 %\n"
          ]
        }
      ]
    },
    {
      "cell_type": "markdown",
      "metadata": {
        "id": "fm2hRmbEmhM6"
      },
      "source": [
        "**Expected Output**: \n",
        "\n",
        "<table style=\"width:40%\"> \n",
        "    <tr>\n",
        "        <td> **Cost after iteration 0 **  </td> \n",
        "        <td> 0.693147 </td>\n",
        "    </tr>\n",
        "      <tr>\n",
        "        <td> <center> $\\vdots$ </center> </td> \n",
        "        <td> <center> $\\vdots$ </center> </td> \n",
        "    </tr>  \n",
        "    <tr>\n",
        "        <td> **Train Accuracy**  </td> \n",
        "        <td> 99.04306220095694 % </td>\n",
        "    </tr>\n",
        "    <tr>\n",
        "        <td>**Test Accuracy** </td> \n",
        "        <td> 70.0 % </td>\n",
        "    </tr>\n",
        "</table> \n",
        "\n",
        "\n"
      ]
    },
    {
      "cell_type": "markdown",
      "metadata": {
        "id": "JRtsi_inmhM6"
      },
      "source": [
        "**Comment**: Training accuracy is close to 100%. This is a good sanity check: your model is working and has high enough capacity to fit the training data. Test accuracy is 68%. It is actually not bad for this simple model, given the small dataset we used and that logistic regression is a linear classifier. But no worries, you'll build an even better classifier next week!\n",
        "\n",
        "Also, you see that the model is clearly overfitting the training data. Later in this specialization you will learn how to reduce overfitting, for example by using regularization. Using the code below (and changing the `index` variable) you can look at predictions on pictures of the test set."
      ]
    },
    {
      "cell_type": "code",
      "metadata": {
        "id": "1Nr6R5eomhM6",
        "colab": {
          "base_uri": "https://localhost:8080/",
          "height": 1000
        },
        "outputId": "3d09c21e-0448-44f3-ac69-cdcadf837a75"
      },
      "source": [
        "# Example of a picture that was wrongly classified.\n",
        "index = 5 # 5, 6\n",
        "plt.imshow(test_set_x[:,index].reshape((num_px, num_px, 3)))\n",
        "print (\"y = \" + str(test_set_y[0,index]) + \n",
        "       \", you predicted that it is a \\\"\" + \n",
        "       classes[d[\"Y_prediction_test\"][0,index]].decode(\"utf-8\") +  \"\\\" picture.\")"
      ],
      "execution_count": 34,
      "outputs": [
        {
          "output_type": "stream",
          "name": "stderr",
          "text": [
            "ERROR:root:Internal Python error in the inspect module.\n",
            "Below is the traceback from this internal error.\n",
            "\n"
          ]
        },
        {
          "output_type": "stream",
          "name": "stdout",
          "text": [
            "Traceback (most recent call last):\n",
            "  File \"/usr/local/lib/python3.7/dist-packages/IPython/core/interactiveshell.py\", line 2882, in run_code\n",
            "    exec(code_obj, self.user_global_ns, self.user_ns)\n",
            "  File \"<ipython-input-34-a939e25a0c02>\", line 6, in <module>\n",
            "    classes[d[\"Y_prediction_test\"][0,index]].decode(\"utf-8\") +  \"\\\" picture.\")\n",
            "IndexError: only integers, slices (`:`), ellipsis (`...`), numpy.newaxis (`None`) and integer or boolean arrays are valid indices\n",
            "\n",
            "During handling of the above exception, another exception occurred:\n",
            "\n",
            "Traceback (most recent call last):\n",
            "  File \"/usr/local/lib/python3.7/dist-packages/IPython/core/interactiveshell.py\", line 1823, in showtraceback\n",
            "    stb = value._render_traceback_()\n",
            "AttributeError: 'IndexError' object has no attribute '_render_traceback_'\n",
            "\n",
            "During handling of the above exception, another exception occurred:\n",
            "\n",
            "Traceback (most recent call last):\n",
            "  File \"/usr/local/lib/python3.7/dist-packages/IPython/core/ultratb.py\", line 1132, in get_records\n",
            "    return _fixed_getinnerframes(etb, number_of_lines_of_context, tb_offset)\n",
            "  File \"/usr/local/lib/python3.7/dist-packages/IPython/core/ultratb.py\", line 313, in wrapped\n",
            "    return f(*args, **kwargs)\n",
            "  File \"/usr/local/lib/python3.7/dist-packages/IPython/core/ultratb.py\", line 358, in _fixed_getinnerframes\n",
            "    records = fix_frame_records_filenames(inspect.getinnerframes(etb, context))\n",
            "  File \"/usr/lib/python3.7/inspect.py\", line 1502, in getinnerframes\n",
            "    frameinfo = (tb.tb_frame,) + getframeinfo(tb, context)\n",
            "  File \"/usr/lib/python3.7/inspect.py\", line 1460, in getframeinfo\n",
            "    filename = getsourcefile(frame) or getfile(frame)\n",
            "  File \"/usr/lib/python3.7/inspect.py\", line 696, in getsourcefile\n",
            "    if getattr(getmodule(object, filename), '__loader__', None) is not None:\n",
            "  File \"/usr/lib/python3.7/inspect.py\", line 725, in getmodule\n",
            "    file = getabsfile(object, _filename)\n",
            "  File \"/usr/lib/python3.7/inspect.py\", line 709, in getabsfile\n",
            "    return os.path.normcase(os.path.abspath(_filename))\n",
            "  File \"/usr/lib/python3.7/posixpath.py\", line 383, in abspath\n",
            "    cwd = os.getcwd()\n",
            "FileNotFoundError: [Errno 2] No such file or directory\n"
          ]
        },
        {
          "output_type": "error",
          "ename": "IndexError",
          "evalue": "ignored",
          "traceback": [
            "\u001b[0;31m---------------------------------------------------------------------------\u001b[0m"
          ]
        },
        {
          "output_type": "display_data",
          "data": {
            "text/plain": [
              "<Figure size 432x288 with 1 Axes>"
            ],
            "image/png": "[encoded data removed]"
          },
          "metadata": {
            "needs_background": "light"
          }
        }
      ]
    },
    {
      "cell_type": "markdown",
      "metadata": {
        "id": "HfPJcuRHmhM9"
      },
      "source": [
        "Let's also plot the cost function and the gradients."
      ]
    },
    {
      "cell_type": "code",
      "metadata": {
        "id": "UvVLYGf3mhM9",
        "colab": {
          "base_uri": "https://localhost:8080/",
          "height": 295
        },
        "outputId": "c29846f8-94f3-43b1-df72-bdee3c7a599e"
      },
      "source": [
        "# Plot learning curve (with costs)\n",
        "costs = np.squeeze(d['costs'])\n",
        "plt.plot(costs, ':kd')\n",
        "plt.ylabel('cost')\n",
        "plt.xlabel('iterations (per hundreds)')\n",
        "plt.title(\"Learning rate =\" + str(d[\"learning_rate\"]))\n",
        "plt.show()"
      ],
      "execution_count": 35,
      "outputs": [
        {
          "output_type": "display_data",
          "data": {
            "text/plain": [
              "<Figure size 432x288 with 1 Axes>"
            ],
            "image/png": "[encoded data removed]"
          },
          "metadata": {
            "needs_background": "light"
          }
        }
      ]
    },
    {
      "cell_type": "markdown",
      "metadata": {
        "id": "bXdhoC1JmhNB"
      },
      "source": [
        "**Interpretation**:\n",
        "You can see the cost decreasing. It shows that the parameters are being learned. However, you see that you could train the model even more on the training set. Try to increase the number of iterations in the cell above and rerun the cells. You might see that the training set accuracy goes up, but the test set accuracy goes down. This is called overfitting. "
      ]
    },
    {
      "cell_type": "markdown",
      "metadata": {
        "id": "s74O6ja9mhNC"
      },
      "source": [
        "## 6 - Further analysis (optional/ungraded exercise) ##\n",
        "\n",
        "Congratulations on building your first image classification model. Let's analyze it further, and examine possible choices for the learning rate $\\alpha$. "
      ]
    },
    {
      "cell_type": "markdown",
      "metadata": {
        "id": "1PqpiocgmhNC"
      },
      "source": [
        "#### Choice of learning rate ####\n",
        "\n",
        "**Reminder**:\n",
        "In order for Gradient Descent to work you must choose the learning rate wisely. The learning rate $\\alpha$  determines how rapidly we update the parameters. If the learning rate is too large we may \"overshoot\" the optimal value. Similarly, if it is too small we will need too many iterations to converge to the best values. That's why it is crucial to use a well-tuned learning rate.\n",
        "\n",
        "Let's compare the learning curve of our model with several choices of learning rates. Run the cell below. This should take about 1 minute. Feel free also to try different values than the three we have initialized the `learning_rates` variable to contain, and see what happens. "
      ]
    },
    {
      "cell_type": "code",
      "metadata": {
        "id": "z5J95T_QmhND",
        "colab": {
          "base_uri": "https://localhost:8080/",
          "height": 591
        },
        "outputId": "e5d3b5cb-1be0-4719-94ca-787f8ccd7387"
      },
      "source": [
        "learning_rates = [0.01, 0.001, 0.0001]\n",
        "models = {}\n",
        "for i in learning_rates:\n",
        "    print (\"learning rate is: \" + str(i))\n",
        "    models[str(i)] = model(train_set_x, train_set_y, test_set_x, test_set_y, \n",
        "                           num_iterations = 1500, learning_rate = i, print_cost = False)\n",
        "    print ('\\n' + \"-------------------------------------------------------\" + '\\n')\n",
        "\n",
        "for i in learning_rates:\n",
        "    plt.plot(np.squeeze(models[str(i)][\"costs\"]), \n",
        "             label= str(models[str(i)][\"learning_rate\"]))\n",
        "\n",
        "plt.ylabel('cost')\n",
        "plt.xlabel('iterations (hundreds)')\n",
        "\n",
        "legend = plt.legend(loc='upper center', shadow=True)\n",
        "frame = legend.get_frame()\n",
        "frame.set_facecolor('0.90')\n",
        "plt.show()"
      ],
      "execution_count": 36,
      "outputs": [
        {
          "output_type": "stream",
          "name": "stdout",
          "text": [
            "learning rate is: 0.01\n",
            "train accuracy: 99.52153110047847 %\n",
            "test accuracy: 68.0 %\n",
            "\n",
            "-------------------------------------------------------\n",
            "\n",
            "learning rate is: 0.001\n",
            "train accuracy: 88.99521531100478 %\n",
            "test accuracy: 64.0 %\n",
            "\n",
            "-------------------------------------------------------\n",
            "\n",
            "learning rate is: 0.0001\n",
            "train accuracy: 68.42105263157895 %\n",
            "test accuracy: 36.0 %\n",
            "\n",
            "-------------------------------------------------------\n",
            "\n"
          ]
        },
        {
          "output_type": "display_data",
          "data": {
            "text/plain": [
              "<Figure size 432x288 with 1 Axes>"
            ],
            "image/png": "[encoded data removed]"
          },
          "metadata": {
            "needs_background": "light"
          }
        }
      ]
    },
    {
      "cell_type": "markdown",
      "metadata": {
        "id": "2z0ZvuLxmhNF"
      },
      "source": [
        "**Interpretation**: \n",
        "- Different learning rates give different costs and thus different predictions results.\n",
        "- If the learning rate is too large (0.01), the cost may oscillate up and down. It may even diverge (though in this example, using 0.01 still eventually ends up at a good value for the cost). \n",
        "- A lower cost doesn't mean a better model. You have to check if there is possibly overfitting. It happens when the training accuracy is a lot higher than the test accuracy.\n",
        "- In deep learning, we usually recommend that you: \n",
        "    - Choose the learning rate that better minimizes the cost function.\n",
        "    - If your model overfits, use other techniques to reduce overfitting. (We'll talk about this in later videos.) \n"
      ]
    },
    {
      "cell_type": "markdown",
      "metadata": {
        "id": "ADBep5zTmhNF"
      },
      "source": [
        "## 7 - Test with your own image (optional/ungraded exercise) ##\n",
        "\n",
        "Congratulations on finishing this assignment. You can use your own image and see the output of your model. To do that:\n",
        "    1. Click on \"File\" in the upper bar of this notebook, then click \"Open\" to go on your Coursera Hub.\n",
        "    2. Add your image to this Jupyter Notebook's directory, in the \"images\" folder\n",
        "    3. Change your image's name in the following code\n",
        "    4. Run the code and check if the algorithm is right (1 = cat, 0 = non-cat)!"
      ]
    },
    {
      "cell_type": "code",
      "metadata": {
        "scrolled": false,
        "id": "64hesnSgmhNG"
      },
      "source": [
        "# START CODE HERE ## (PUT YOUR IMAGE NAME)\n",
        "idx = 1\n",
        "my_image = \"test\" + str(idx) + \".jpg\"   # change this to the name of your image file \n",
        "## END CODE HERE ##\n",
        "\n",
        "# We preprocess the image to fit your algorithm.\n",
        "fname = \"images/\" + my_image\n",
        "image = np.array(plt.imread(fname))\n",
        "image = image/255.\n",
        "import skimage.transform\n",
        "my_image = skimage.transform.resize(image, (num_px, num_px)).reshape((1, num_px*num_px*3)).T\n",
        "\n",
        "my_predicted_image = predict(d[\"w\"], d[\"b\"], my_image)\n",
        "\n",
        "plt.imshow(image)\n",
        "print(\"y = \" + str(np.squeeze(my_predicted_image)) + \n",
        "      \", your algorithm predicts a \\\"\" + \n",
        "      classes[int(np.squeeze(my_predicted_image)),].decode(\"utf-8\") +  \n",
        "      \"\\\" picture.\")"
      ],
      "execution_count": null,
      "outputs": []
    },
    {
      "cell_type": "markdown",
      "metadata": {
        "id": "JkO_0E97mhNJ"
      },
      "source": [
        "<font color='blue'>\n",
        "**What to remember from this assignment:**\n",
        "1. Preprocessing the dataset is important.\n",
        "2. You implemented each function separately: initialize(), propagate(), optimize(). Then you built a model().\n",
        "3. Tuning the learning rate (which is an example of a \"hyperparameter\") can make a big difference to the algorithm. You will see more examples of this later in this course!"
      ]
    },
    {
      "cell_type": "markdown",
      "metadata": {
        "id": "0v88Y12nmhNJ"
      },
      "source": [
        "Finally, if you'd like, we invite you to try different things on this Notebook. Make sure you submit before trying anything. Once you submit, things you can play with include:\n",
        "    - Play with the learning rate and the number of iterations\n",
        "    - Try different initialization methods and compare the results\n",
        "    - Test other preprocessings (center the data, or divide each row by its standard deviation)"
      ]
    },
    {
      "cell_type": "markdown",
      "metadata": {
        "id": "obJNzrFDmhNJ"
      },
      "source": [
        "Bibliography:\n",
        "- http://www.wildml.com/2015/09/implementing-a-neural-network-from-scratch/\n",
        "- https://stats.stackexchange.com/questions/211436/why-do-we-normalize-images-by-subtracting-the-datasets-image-mean-and-not-the-c"
      ]
    }
  ]
}